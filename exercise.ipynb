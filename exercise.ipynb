{
 "cells": [
  {
   "cell_type": "code",
   "execution_count": 2,
   "metadata": {},
   "outputs": [
    {
     "name": "stdout",
     "output_type": "stream",
     "text": [
      "on Tom LONG wolk\n",
      "['on', 'Tom', 'LONG', 'wolk']\n"
     ]
    }
   ],
   "source": [
    "stringON = \"ON\"\n",
    "\n",
    "name_tom = \"tom\"\n",
    "\n",
    "long = \"long\"\n",
    "\n",
    "walk = \"walk\"\n",
    "\n",
    "text = (stringON.lower() + \" \" + name_tom.capitalize() +\n",
    " \" \" + long.upper() + \" \" + walk.replace(\"a\", \"o\"))\n",
    "\n",
    "#print text complete\n",
    "print(text)\n",
    "\n",
    "words = text.split()\n",
    "\n",
    "# Print the result\n",
    "print(words)"
   ]
  },
  {
   "cell_type": "code",
   "execution_count": 3,
   "metadata": {},
   "outputs": [
    {
     "name": "stdout",
     "output_type": "stream",
     "text": [
      "Welcome James, your age is 25\n"
     ]
    }
   ],
   "source": [
    "name = \"James\"\n",
    "age = 25\n",
    "\n",
    "hello = f\"Welcome {name}, your age is {age}\"\n",
    "\n",
    "print(hello)"
   ]
  },
  {
   "cell_type": "code",
   "execution_count": 4,
   "metadata": {},
   "outputs": [
    {
     "name": "stdout",
     "output_type": "stream",
     "text": [
      "Hi, I'm Emanuela, I'm 25 years old, I live in Bologna\n",
      "Hi, I'm Champion Emanuela, I'm 25 years old, I live in Bologna\n",
      "Hi, I'm Champion Emanuela, I'm 25 years old, I live in Bologna, I'm 1.67m tall, hero False\n"
     ]
    }
   ],
   "source": [
    "name = \"Emanuela\"\n",
    "age = 25\n",
    "city = \"Bologna\"\n",
    "\n",
    "presentation = (\"Hi, I'm \" + name + \", I'm \" + str(age) + \" years old, \" +\n",
    "\"I live in \" + city)\n",
    "\n",
    "print(presentation)\n",
    "\n",
    "name = \"Champion \" + name\n",
    "\n",
    "presentation = (\"Hi, I'm \" + name + \", I'm \" + str(age) + \" years old, \" +\n",
    "\"I live in \" + city)\n",
    "\n",
    "print(presentation)\n",
    "\n",
    "height = 1.67\n",
    "\n",
    "is_hero = False\n",
    "\n",
    "presentation = presentation = f\"Hi, I'm {name}, I'm {age} years old, I live in {city}, I'm {height}m tall, hero {is_hero}\"\n",
    "\n",
    "print(presentation)"
   ]
  },
  {
   "cell_type": "code",
   "execution_count": 5,
   "metadata": {},
   "outputs": [
    {
     "name": "stdout",
     "output_type": "stream",
     "text": [
      "What's your name?\n",
      "What's your surname?\n",
      "year of birth?\n",
      "Please enter a valid year of birth.\n",
      "year of birth?\n",
      "Please enter a valid year of birth.\n",
      "year of birth?\n",
      "Please enter a valid year of birth.\n",
      "year of birth?\n",
      "Please enter a valid year of birth.\n",
      "year of birth?\n",
      "Please enter a valid year of birth.\n",
      "year of birth?\n",
      "Please enter a valid year of birth.\n",
      "year of birth?\n",
      "Please enter a valid year of birth.\n",
      "year of birth?\n",
      "Please enter a valid year of birth.\n",
      "year of birth?\n",
      "Please enter a valid year of birth.\n",
      "year of birth?\n",
      "Please enter a valid year of birth.\n",
      "year of birth?\n",
      "Please enter a valid year of birth.\n",
      "year of birth?\n",
      "Please enter a valid year of birth.\n",
      "year of birth?\n",
      "Please enter a valid year of birth.\n",
      "year of birth?\n",
      "Please enter a valid year of birth.\n",
      "year of birth?\n",
      "Please enter a valid year of birth.\n",
      "year of birth?\n",
      "Please enter a valid year of birth.\n",
      "year of birth?\n",
      "Please enter a valid year of birth.\n",
      "year of birth?\n",
      "Please enter a valid year of birth.\n",
      "year of birth?\n",
      "Please enter a valid year of birth.\n",
      "year of birth?\n",
      "Please enter a valid year of birth.\n",
      "year of birth?\n",
      "Please enter a valid year of birth.\n",
      "year of birth?\n",
      "Please enter a valid year of birth.\n",
      "year of birth?\n",
      "Please enter a valid year of birth.\n",
      "year of birth?\n",
      "Please enter a valid year of birth.\n",
      "year of birth?\n",
      "Please enter a valid year of birth.\n",
      "year of birth?\n",
      "Please enter a valid year of birth.\n",
      "year of birth?\n",
      "Please enter a valid year of birth.\n",
      "year of birth?\n",
      "Please enter a valid year of birth.\n",
      "year of birth?\n",
      "Please enter a valid year of birth.\n",
      "year of birth?\n",
      "Please enter a valid year of birth.\n",
      "year of birth?\n",
      "Please enter a valid year of birth.\n",
      "year of birth?\n",
      "Where do you live?\n",
      "What is your favorite language?\n",
      "Write your biography!\n",
      "  is 2024 years old, lives in 2 and loves 3.\n"
     ]
    }
   ],
   "source": [
    "year_current = 2025\n",
    "\n",
    "while True:\n",
    "    \n",
    "    print(\"What's your name?\")\n",
    "\n",
    "    firstname = input().lower()\n",
    "\n",
    "    print(\"What's your surname?\")\n",
    "    surname = input().lower()\n",
    "\n",
    "    name = f'{firstname} {surname}'\n",
    "\n",
    "    while True:\n",
    "        print(\"year of birth?\")\n",
    "        year = input().lower()\n",
    "        if year.isnumeric():\n",
    "            age = year_current - int(year)\n",
    "            break\n",
    "        else:\n",
    "            print(\"Please enter a valid year of birth.\")\n",
    "\n",
    "    print(\"Where do you live?\")\n",
    "    city = input().lower()\n",
    "    \n",
    "    # Calculate the total length\n",
    "    length = len(name) + len(str(age)) + len(city)\n",
    "    \n",
    "    # Check if the length is less than 40\n",
    "    if length < 40:\n",
    "        break\n",
    "    else:\n",
    "        print(\"The total length of your input exceeds 50 characters. Please try again.\")\n",
    "\n",
    "# Final part\n",
    "print(\"What is your favorite language?\")\n",
    "fav_language = input().lower()\n",
    "\n",
    "print(\"Write your biography!\")\n",
    "biography = input()\n",
    "print(f\"{name} is {age} years old, lives in {city} and loves {fav_language}.\")"
   ]
  },
  {
   "cell_type": "code",
   "execution_count": 7,
   "metadata": {},
   "outputs": [
    {
     "name": "stdout",
     "output_type": "stream",
     "text": [
      "hi, I'm chat, who are you?\n",
      "please enter a valid username\n",
      "please enter a valid username\n",
      "please enter a valid username\n",
      "please enter a valid username\n",
      "please enter a valid username\n",
      "please enter a valid username\n",
      "please enter a valid username\n",
      "please enter a valid username\n",
      "please enter a valid username\n"
     ]
    }
   ],
   "source": [
    "print(\"hi, I'm chat, who are you?\")\n",
    "while True:\n",
    "    username = input()\n",
    "    if username.isalpha():\n",
    "        break\n",
    "    else:\n",
    "        print(\"please enter a valid username\")\n",
    "\n",
    "print(f\"Hello, {str(username[0])} {str(username[-1])} you are welcome, how do you feel today?\")\n",
    "response = input().split()\n",
    "\n",
    "for i in response:\n",
    "    if \"sad\" in i:\n",
    "        print(i.replace(\"sad\", \"happy\"))\n",
    "    else:\n",
    "        print(i)"
   ]
  },
  {
   "cell_type": "code",
   "execution_count": 8,
   "metadata": {},
   "outputs": [
    {
     "name": "stdout",
     "output_type": "stream",
     "text": [
      "Enter your Name\n",
      "Emla\n",
      "nue\n",
      "Welcome, Emanuela, your username is Emla and your code is nue\n"
     ]
    }
   ],
   "source": [
    "print(\"Enter your Name\")\n",
    "while True:\n",
    "    name = input()\n",
    "    if len(name) < 15 and len(name)>3:\n",
    "        break\n",
    "    else:\n",
    "        print(f\"Name length = {len(name)}. Please enter a valid name.\")\n",
    "        \n",
    "\n",
    "username = name[0:2] + name[-2:]\n",
    "print(username)\n",
    "\n",
    "code = name[int(len(name)/2)-1:int(len(name)/2)+2]\n",
    "print(code)\n",
    "\n",
    "print(f\"Welcome, {name}, your username is {username} and your code is {code}\")"
   ]
  },
  {
   "cell_type": "code",
   "execution_count": 10,
   "metadata": {},
   "outputs": [
    {
     "name": "stdout",
     "output_type": "stream",
     "text": [
      "nu\n"
     ]
    }
   ],
   "source": [
    "name = \"Emanuela\"\n",
    "print(name[3:-3])\n"
   ]
  },
  {
   "cell_type": "code",
   "execution_count": 9,
   "metadata": {},
   "outputs": [
    {
     "name": "stdout",
     "output_type": "stream",
     "text": [
      "The sky is blue.\n",
      "Today's highlighted word is: SKY\n"
     ]
    }
   ],
   "source": [
    "quote = 'The sky is blue.'\n",
    "print(quote)\n",
    "slice = quote[4:7].upper() #slice the string and convert to uppercase\n",
    "print(f\"Today's highlighted word is: {slice}\")"
   ]
  },
  {
   "cell_type": "code",
   "execution_count": 11,
   "metadata": {},
   "outputs": [],
   "source": [
    "def print_last_letter_of(string):\n",
    "    last_letter = string[-1]\n",
    "    print(last_letter)"
   ]
  },
  {
   "cell_type": "code",
   "execution_count": 12,
   "metadata": {},
   "outputs": [
    {
     "name": "stdout",
     "output_type": "stream",
     "text": [
      "i\n"
     ]
    }
   ],
   "source": [
    "print_last_letter_of(string=\"come vuoi\")"
   ]
  },
  {
   "cell_type": "code",
   "execution_count": 13,
   "metadata": {},
   "outputs": [
    {
     "name": "stdout",
     "output_type": "stream",
     "text": [
      "o\n"
     ]
    }
   ],
   "source": [
    "var = \"una stringa dentro\"\n",
    "print_last_letter_of(var)"
   ]
  },
  {
   "cell_type": "code",
   "execution_count": 16,
   "metadata": {},
   "outputs": [],
   "source": [
    "def print_a_letter_of(string, index=-1):\n",
    "    letter = string[index]\n",
    "    print(letter)\n"
   ]
  },
  {
   "cell_type": "code",
   "execution_count": 18,
   "metadata": {},
   "outputs": [
    {
     "name": "stdout",
     "output_type": "stream",
     "text": [
      "o\n"
     ]
    }
   ],
   "source": [
    "print_a_letter_of(\"ciao\")"
   ]
  },
  {
   "cell_type": "code",
   "execution_count": 20,
   "metadata": {},
   "outputs": [],
   "source": [
    "def take_a_letter_of(string, index=-1):\n",
    "    letter = string[index]\n",
    "    return letter"
   ]
  },
  {
   "cell_type": "code",
   "execution_count": 21,
   "metadata": {},
   "outputs": [],
   "source": [
    "results = take_a_letter_of(\"ciao\")\n"
   ]
  },
  {
   "cell_type": "code",
   "execution_count": 22,
   "metadata": {},
   "outputs": [
    {
     "name": "stdout",
     "output_type": "stream",
     "text": [
      "o\n"
     ]
    }
   ],
   "source": [
    "print(results)"
   ]
  },
  {
   "cell_type": "code",
   "execution_count": 1,
   "metadata": {},
   "outputs": [
    {
     "name": "stdout",
     "output_type": "stream",
     "text": [
      "The remainder (undistributed apples) is: 1\n"
     ]
    }
   ],
   "source": [
    "total_apples = 5\n",
    "people = 2\n",
    "\n",
    "# Calculate the remainder\n",
    "remainder = total_apples % people\n",
    "\n",
    "# Output the result\n",
    "print(f\"The remainder (undistributed apples) is: {remainder}\")"
   ]
  },
  {
   "cell_type": "code",
   "execution_count": 2,
   "metadata": {},
   "outputs": [
    {
     "name": "stdout",
     "output_type": "stream",
     "text": [
      "True\n"
     ]
    }
   ],
   "source": [
    "first_name = \"Mario\"\n",
    "last_name = \"Johnson\"\n",
    "print(not (first_name == \"Mario\" and last_name == \"Smith\")) #Should print True"
   ]
  },
  {
   "cell_type": "code",
   "execution_count": 3,
   "metadata": {},
   "outputs": [
    {
     "name": "stdout",
     "output_type": "stream",
     "text": [
      "Mario Rossi\n"
     ]
    }
   ],
   "source": [
    "firstName = \"Mario\"\n",
    "lastName = \"Rossi\"\n",
    "\n",
    "full_name = firstName + \" \" + lastName\n",
    "print(full_name) #Should print \"Mario Rossi\""
   ]
  },
  {
   "cell_type": "code",
   "execution_count": 1,
   "metadata": {},
   "outputs": [
    {
     "name": "stdout",
     "output_type": "stream",
     "text": [
      "You are eligible to drive a car.\n"
     ]
    }
   ],
   "source": [
    "# Ask the user for their age and driving license status\n",
    "age = int(input(\"Enter your age: \"))\n",
    "license_status = input(\"Do you have a valid driving license? (yes or no): \").strip().lower()\n",
    "\n",
    "# Determine eligibility using logical operators\n",
    "eligibility = (age >= 18) and (license_status == \"yes\")\n",
    "\n",
    "# Print the result\n",
    "print(\"You are eligible to drive a car.\" if eligibility else \"You are not eligible to drive a car.\")"
   ]
  },
  {
   "cell_type": "code",
   "execution_count": 1,
   "metadata": {},
   "outputs": [
    {
     "name": "stdout",
     "output_type": "stream",
     "text": [
      "Network Address: 106 (Binary: 01101010)\n"
     ]
    }
   ],
   "source": [
    "#Ask the user to input an 8-bit IPv4 address\n",
    "ip_address = int(input(\"Enter an 8-bit IPv4 address (0-255): \"))\n",
    "\n",
    "#Validate the IP address input\n",
    "if not (0 <= ip_address <= 255):\n",
    "    print(\"Invalid IP address. Please enter a number between 0 and 255.\")\n",
    "    exit()\n",
    "\n",
    "#Ask the user to input an 8-bit subnet mask\n",
    "subnet_mask = int(input(\"Enter an 8-bit subnet mask (0-255): \"))\n",
    "\n",
    "#Validate the subnet mask input\n",
    "if not (0 <= subnet_mask <= 255):\n",
    "    print(\"Invalid subnet mask. Please enter a number between 0 and 255.\")\n",
    "    exit()\n",
    "\n",
    "#Apply the binary AND operator to calculate the network address\n",
    "network_address = ip_address & subnet_mask\n",
    "\n",
    "#Print\n",
    "print(f\"Network Address: {network_address} (Binary: {network_address:08b})\")"
   ]
  },
  {
   "cell_type": "code",
   "execution_count": 3,
   "metadata": {},
   "outputs": [
    {
     "name": "stdout",
     "output_type": "stream",
     "text": [
      "7\n",
      "5\n",
      "15\n",
      "4.0\n"
     ]
    }
   ],
   "source": [
    "a = 3\n",
    "b = 4\n",
    "total = a + b\n",
    "print(total)\n",
    "\n",
    "x = 7\n",
    "y = 2\n",
    "lives = x - y\n",
    "print(lives)\n",
    "\n",
    "p = 5\n",
    "q = 3\n",
    "total = p * q\n",
    "print(total)\n",
    "\n",
    "m = 8\n",
    "n = 2\n",
    "tot = 8 / 2\n",
    "print(tot)"
   ]
  },
  {
   "cell_type": "code",
   "execution_count": 2,
   "metadata": {},
   "outputs": [
    {
     "name": "stdout",
     "output_type": "stream",
     "text": [
      "1 1\n",
      "35\n",
      "398 / 5 = \n",
      "79.6\n",
      "Min price: 5\n",
      "Max price: 25\n"
     ]
    }
   ],
   "source": [
    "# Calculate and print the integer and the remainder of dividing the number of adult tickets by the number of child tickets\n",
    "adult_tickets = 4 \n",
    "child_tickets = 3\n",
    "quotient = int(adult_tickets / child_tickets)\n",
    "remainder = adult_tickets % child_tickets\n",
    "print(quotient, remainder)\n",
    "\n",
    "# Calculate and print the sum of all elements in the list\n",
    "numbers = [3, 5, 7, 9, 11]\n",
    "sum_result = sum(numbers) \n",
    "print(sum_result)\n",
    "\n",
    "# Calculate and print the average grade\n",
    "numbers = [83, 85, 72, 63, 95]\n",
    "total = sum(numbers)\n",
    "num_elements = len(numbers)\n",
    "print(f\"{total} / {num_elements} = \")\n",
    "print(total / num_elements)\n",
    "\n",
    "# Calculate and print the highest and lowest prices\n",
    "prices = [5, 10, 15, 20, 25]\n",
    "print(\"Min price: \" + str(min(prices)))\n",
    "print(\"Max price: \" + str(max(prices)))\n"
   ]
  },
  {
   "cell_type": "code",
   "execution_count": 1,
   "metadata": {},
   "outputs": [
    {
     "name": "stdout",
     "output_type": "stream",
     "text": [
      "The number of vowels in the sentence is: 11\n",
      "[1, 3, 5, 7, 9]\n",
      "['apple', 'banana', 'cherry']\n",
      "[1, 3, 5]\n"
     ]
    }
   ],
   "source": [
    "# Sentence to analyze\n",
    "sentence = \"The quick brown fox jumps over the lazy dog.\"\n",
    "# Vowels to check\n",
    "vowels = \"aeiouAEIOU\"\n",
    "# Count the vowels in the sentence using builtins.sum\n",
    "vowel_count = sum(1 for char in sentence if char in vowels)\n",
    "\n",
    "# Print the result\n",
    "print(f\"The number of vowels in the sentence is: {vowel_count}\")\n",
    "\n",
    "# List of numbers\n",
    "list_of_numbers = [1, 2, 3, 4, 5, 6, 7, 8, 9, 10]\n",
    "# Find odd numbers using a list comprehension\n",
    "list_of_odd_numbers = [n for n in list_of_numbers if n % 2 != 0]\n",
    "\n",
    "# Print odd numbers\n",
    "print(list_of_odd_numbers)\n",
    "\n",
    "# Mixed list of numbers and fruits\n",
    "mixed_list = [1, \"apple\", 3, \"banana\", 5, \"cherry\"]\n",
    "\n",
    "# Separate fruits and numbers using list comprehensions\n",
    "fruit_list = [item for item in mixed_list if isinstance(item, str)]\n",
    "number_list = [item for item in mixed_list if isinstance(item, (int, float))]\n",
    "\n",
    "# Print results\n",
    "print(fruit_list)\n",
    "print(number_list)\n"
   ]
  },
  {
   "cell_type": "code",
   "execution_count": 5,
   "metadata": {},
   "outputs": [
    {
     "name": "stdout",
     "output_type": "stream",
     "text": [
      "45 20\n",
      "65\n",
      "5.416666666666667\n"
     ]
    }
   ],
   "source": [
    "# Abbiamo 25 frutti di cui 15 banane e 10 mele. Le banane costano 3 euro l'una e le mele 2 euro.\n",
    "# Abbiamo 12 clienti a cui vogliamo distribuire equamente i frutti.\n",
    "# Quale sarà la spesa media per cliente?\n",
    "num_banane = 15\n",
    "num_mele = 10\n",
    "prezzo_banana = 3\n",
    "prezzo_mela = 2\n",
    "num_clienti = 12\n",
    "\n",
    "# Calcolare il totale speso per le banane e le mele\n",
    "totale_banane = num_banane * prezzo_banana\n",
    "totale_mele = num_mele * prezzo_mela\n",
    "print(totale_banane, totale_mele)\n",
    "\n",
    "# Calcolare il totale speso per tutti i frutti\n",
    "totale_speso = totale_banane + totale_mele\n",
    "print(totale_speso)\n",
    "\n",
    "# Calcolare la spesa media per cliente\n",
    "spesa_media = totale_speso / num_clienti\n",
    "print(spesa_media)"
   ]
  },
  {
   "cell_type": "code",
   "execution_count": 1,
   "metadata": {},
   "outputs": [
    {
     "name": "stdout",
     "output_type": "stream",
     "text": [
      "14.99 <class 'float'>\n",
      "14 <class 'int'>\n",
      "14 <class 'str'>\n"
     ]
    }
   ],
   "source": [
    "# Casting\n",
    "price = 14.99\n",
    "new_price = int(price)\n",
    "price_tag = str(new_price)\n",
    "\n",
    "print(price, type(price))\n",
    "print(new_price, type(new_price))\n",
    "print(price_tag, type(price_tag))"
   ]
  },
  {
   "cell_type": "code",
   "execution_count": 3,
   "metadata": {},
   "outputs": [
    {
     "name": "stdout",
     "output_type": "stream",
     "text": [
      "20.789\n",
      "20.79\n"
     ]
    }
   ],
   "source": [
    "# Rounding\n",
    "amount_in_usd = 20.789\n",
    "display_amount = round(amount_in_usd, 2)\n",
    "\n",
    "print(amount_in_usd)\n",
    "print(display_amount)"
   ]
  },
  {
   "cell_type": "markdown",
   "metadata": {},
   "source": [
    "## \n",
    "scrivere una funzione che converta un numero (compreso tra 0 e 10) in:\n",
    "- insufficiente se tra 0 e 5\n",
    "- buono se tra 5 e 7\n",
    "- ottimo se maggiore di 7"
   ]
  },
  {
   "cell_type": "code",
   "execution_count": 7,
   "metadata": {},
   "outputs": [
    {
     "name": "stdout",
     "output_type": "stream",
     "text": [
      "Buono\n"
     ]
    }
   ],
   "source": [
    "numero = int(input(\"Inserisci un numero: \"))\n",
    "if numero >= 0 and numero <= 5:\n",
    "    print(\"Insufficiente\")\n",
    "elif numero >= 5 and numero <= 7:\n",
    "    print(\"Buono\")\n",
    "elif numero >= 7 and numero <= 10:\n",
    "    print(\"Ottimo\")"
   ]
  },
  {
   "cell_type": "code",
   "execution_count": 8,
   "metadata": {},
   "outputs": [
    {
     "name": "stdout",
     "output_type": "stream",
     "text": [
      "Tim's result: Pass\n"
     ]
    }
   ],
   "source": [
    "\n",
    "score = input(\"Please enter Tim's score: \")\n",
    "try:\n",
    "    score = int(score)\n",
    "    if 0 <= score <= 100:\n",
    "        if 0 <= score <= 49:\n",
    "            grade = \"Fail\"\n",
    "        elif 50 <= score <= 59:\n",
    "            grade = \"Pass\"\n",
    "        elif 60 <= score <= 74:\n",
    "            grade = \"Good\"\n",
    "        elif 75 <= score <= 89:\n",
    "            grade = \"Very Good\"\n",
    "        elif 90 <= score <= 100:\n",
    "            grade = \"Excellent\"\n",
    "        print(f\"Tim's result: {grade}\")\n",
    "    else:\n",
    "        print(\"Error: The score must be between 0 and 100.\")\n",
    "except ValueError:\n",
    "    print(\"Error: Please enter a valid integer for the score.\")\n"
   ]
  },
  {
   "cell_type": "code",
   "execution_count": null,
   "metadata": {},
   "outputs": [],
   "source": [
    "number1 = 66\n",
    "number2 = 66\n",
    "\n",
    "if number1 > number2:\n",
    "    print(\"Data set number1 is larger than data set number2.\")\n",
    "elif number2 > number1:\n",
    "    print(\"Data set number2 is larger than data set number1.\")\n",
    "else:\n",
    "    print(\"Data sets number1 and number2 are equal.\")\n"
   ]
  },
  {
   "cell_type": "code",
   "execution_count": 9,
   "metadata": {},
   "outputs": [
    {
     "name": "stdout",
     "output_type": "stream",
     "text": [
      "In the simulation, Player B scored more than Player A385.\n"
     ]
    }
   ],
   "source": [
    "import random \n",
    "scoreA = random.randint(300, 400)\n",
    "scoreB = random.randint(300, 400)\n",
    "# Compare the scores\n",
    "if scoreA > scoreB:\n",
    "    print(f\"In the simulation, Player A scored more than Player B {scoreA}.\")\n",
    "elif scoreB > scoreA:\n",
    "    print(f\"In the simulation, Player B scored more than Player A{scoreB}.\")\n",
    "else:\n",
    "    print(\"In the simulation, Player A and Player B have the same score\")\n",
    "\n"
   ]
  },
  {
   "cell_type": "code",
   "execution_count": 10,
   "metadata": {},
   "outputs": [
    {
     "name": "stdout",
     "output_type": "stream",
     "text": [
      "The value of your assets is greater than the absolute value of your debts\n"
     ]
    }
   ],
   "source": [
    "asset = 5000\n",
    "debt = -3000\n",
    "\n",
    "#compares the absolute values of these two numbers using the abs() function\n",
    "if abs(asset) > abs(debt):\n",
    "    print(\"The value of your assets is greater than the absolute value of your debts\")\n",
    "elif abs(debt) > abs(asset):\n",
    "        print(\"The absolute value of your debts is greater than the value of your assets\")\n",
    "else:\n",
    "        print(\"The value of your assets is equal to the absolute value of your debts\")\n"
   ]
  },
  {
   "cell_type": "code",
   "execution_count": null,
   "metadata": {},
   "outputs": [],
   "source": [
    "age = int(input(\"Enter your age: \"))\n",
    "if 13 <= age <= 19:\n",
    "    print(\"You are a teenager.\")\n",
    "else:\n",
    "    print(\"You are an adult.\")\n",
    "\n",
    "name = input(\"Enter your name: \")\n",
    "city = input(\"Enter your city: \")\n",
    "print(f\"Welcome, {name} from {city}!\")\n",
    "\n",
    "password = input(\"Enter your password: \")\n",
    "if len(password) >= 8:\n",
    "    print(\"Password is valid.\")\n",
    "else:\n",
    "    print(\"Password is too short.\")\n",
    "\n",
    "transaction = float(input(\"Enter the transaction amount: \"))\n",
    "if transaction > 0:\n",
    "    print(\"This is a deposit.\")\n",
    "elif transaction < 0:\n",
    "    print(\"This is a withdrawal.\")\n",
    "else:\n",
    "    print(\"No transaction.\")\n",
    "\n",
    "\n",
    "\n"
   ]
  },
  {
   "cell_type": "code",
   "execution_count": null,
   "metadata": {},
   "outputs": [],
   "source": [
    "#1\n",
    "mountain1 = float(input(\"Enter the height of the first mountain: \"))\n",
    "mountain2 = float(input(\"Enter the height of the second mountain: \"))\n",
    "if mountain1 > mountain2:\n",
    "    print(\"The first mountain is higher.\")\n",
    "elif mountain2 > mountain1:\n",
    "    print(\"The second mountain is higher.\")\n",
    "else:\n",
    "    print(\"The mountains are equally high.\")\n",
    "\n",
    "#2\n",
    "def check_even_or_odd(total):\n",
    "    if total % 2 == 0:\n",
    "        return \"even\"\n",
    "    else:\n",
    "        return \"odd\"\n",
    "customer1 = float(input(\"Enter the bill amount for Customer 1:  \"))\n",
    "customer2 = float(input(\"Enter the bill amount for Customer 2:  \"))\n",
    "customer3 = float(input(\"Enter the bill amount for Customer 3:  \"))\n",
    "total = customer1 + customer2 + customer3\n",
    "print(f\"The total bill amount is {total} and the sum is {check_even_or_odd(total)}.\")\n",
    "\n",
    "#3\n",
    "year = int(input(\"Enter a year: \"))\n",
    "if year % 4 == 0 and year % 100 != 0 or year % 400 == 0:\n",
    "    print(f\"{year} is a leap year.\")\n",
    "else:\n",
    "    print(f\"{year} is not a leap year.\")\n",
    "\n"
   ]
  },
  {
   "cell_type": "code",
   "execution_count": null,
   "metadata": {},
   "outputs": [],
   "source": [
    "# 1\n",
    "letter = input(\"Enter a letter: \")\n",
    "if letter.lower() in \"aeiou\":\n",
    "    print(\"This is a vowel.\")\n",
    "else:\n",
    "    print(\"This is a consonant.\")\n",
    "\n",
    "# 2\n",
    "today_temp = float(input(\"Enter today's temperature in degrees Celsius: \"))\n",
    "yesterday_temp = float(input(\"Enter yesterday's temperature in degrees Celsius: \"))\n",
    "\n",
    "temp_change = today_temp - yesterday_temp\n",
    "if temp_change > 0:\n",
    "    print(f\"The temperature rose by {temp_change:.1f}°C compared to yesterday.\")\n",
    "elif temp_change < 0:\n",
    "    print(f\"The temperature fell by {abs(temp_change):.1f}°C compared to yesterday.\")\n",
    "else:\n",
    "    print(\"The temperature did not change compared to yesterday.\")\n",
    "\n",
    "# 3\n",
    "number = int(input(\"Enter a number: \"))\n",
    "if number % 5 == 0 and number % 11 == 0:\n",
    "    print(f\"{number} is divisible by both 5 and 11.\")\n",
    "else:\n",
    "    print(f\"{number} is not divisible by both 5 and 11.\")"
   ]
  },
  {
   "cell_type": "code",
   "execution_count": 11,
   "metadata": {},
   "outputs": [
    {
     "name": "stdout",
     "output_type": "stream",
     "text": [
      "*\n",
      "**\n",
      "***\n",
      "****\n",
      "*****\n"
     ]
    }
   ],
   "source": [
    "i = 1\n",
    "while i <= 5:\n",
    "    print('*' * i)\n",
    "    i += 1\n"
   ]
  },
  {
   "cell_type": "code",
   "execution_count": 1,
   "metadata": {},
   "outputs": [
    {
     "name": "stdout",
     "output_type": "stream",
     "text": [
      "*\n",
      "***\n",
      "*****\n"
     ]
    }
   ],
   "source": [
    "for i in range(6):\n",
    "    if i % 2 == 0:\n",
    "        continue\n",
    "    print('*' * i)\n"
   ]
  },
  {
   "cell_type": "code",
   "execution_count": 5,
   "metadata": {},
   "outputs": [
    {
     "name": "stdout",
     "output_type": "stream",
     "text": [
      "Continuing activity: write a string\n",
      "Continuing activity: write another string\n",
      "It's time for a coffee break!\n"
     ]
    }
   ],
   "source": [
    "def coffee_break(activities):\n",
    "    for activity in activities:\n",
    "        if activity == \"COFFEE BREAK\":\n",
    "            print(\"It's time for a coffee break!\")\n",
    "            break\n",
    "        print(f\"Continuing activity: {activity}\")\n",
    "    else:\n",
    "        print(\"No coffee break found in the activities.\")\n",
    "# activities example\n",
    "activities_list = [\"write a string\", \"write another string\", \"COFFEE BREAK\", \"Search for treasure\"]\n",
    "coffee_break(activities_list)"
   ]
  },
  {
   "cell_type": "code",
   "execution_count": 7,
   "metadata": {},
   "outputs": [
    {
     "name": "stdout",
     "output_type": "stream",
     "text": [
      "cat\n",
      "dog\n",
      "fish\n",
      "lion\n",
      "elephant\n",
      "bird\n",
      "bear\n",
      "tiger\n",
      "deer\n",
      "lion lives in land\n",
      "elephant lives in land\n"
     ]
    }
   ],
   "source": [
    "list1 = ['cat', 'dog', 'fish']\n",
    "tuple1 = ('lion', 'elephant', 'bird')\n",
    "set1 = {'tiger', 'bear', 'deer'}\n",
    "dict1 = {'lion': 'land', 'elephant': 'land', 'fish': 'water'}\n",
    "\n",
    "for element in list1:\n",
    "    print(element)\n",
    "\n",
    "for element in tuple1:\n",
    "    print(element)\n",
    "\n",
    "for element in set1:\n",
    "    print(element)\n",
    "\n",
    "for animal, habitat in dict1.items():\n",
    "    if habitat == 'land':\n",
    "        print(f\"{animal} lives in {habitat}\")\n"
   ]
  }
 ],
 "metadata": {
  "kernelspec": {
   "display_name": ".venv",
   "language": "python",
   "name": "python3"
  },
  "language_info": {
   "codemirror_mode": {
    "name": "ipython",
    "version": 3
   },
   "file_extension": ".py",
   "mimetype": "text/x-python",
   "name": "python",
   "nbconvert_exporter": "python",
   "pygments_lexer": "ipython3",
   "version": "3.12.8"
  }
 },
 "nbformat": 4,
 "nbformat_minor": 2
}
